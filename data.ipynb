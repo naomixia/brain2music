{
 "cells": [
  {
   "cell_type": "code",
   "execution_count": 23,
   "metadata": {},
   "outputs": [],
   "source": [
    "import numpy as np\n",
    "import os"
   ]
  },
  {
   "cell_type": "code",
   "execution_count": 26,
   "metadata": {},
   "outputs": [],
   "source": [
    "currdir = os.getcwd()"
   ]
  },
  {
   "cell_type": "code",
   "execution_count": 27,
   "metadata": {},
   "outputs": [],
   "source": [
    "data_dir = currdir + '/GTZAN-Preprocess.py'\n",
    "#data_file = currdir + '/sub-001_Resp_Training.npy' needs to be hosted elsewhere."
   ]
  },
  {
   "cell_type": "markdown",
   "metadata": {},
   "source": [
    "tr data: 12*4*10 = 480 (12 runs, 4 music clips from 10 genres)\n",
    "Each experiment consisted of 18 runs: \n",
    "12 + 6(training runs, and 6 were considered as test runs). \n",
    "Each run consisted of 40 music clips and lasted 10 min in total. \n",
    "A total of 480 of the music clips were used in the training runs, and the remaining 60 were reserved for the test runs. (540 music clips total)\n",
    "10 volumes that were collected  \n",
    "\n",
    "test data: 6*1*10?"
   ]
  },
  {
   "cell_type": "markdown",
   "metadata": {},
   "source": [
    "Next steps?\n",
    "\n",
    "-What feature engineering/extraction should be used? \n",
    "\n",
    "    - cochlear/biological-based feature engineering?\n",
    "\n",
    "    - use some pretrained LM with acoustic features/song info?\n",
    "    \n",
    "    - spectrogram based? "
   ]
  },
  {
   "cell_type": "code",
   "execution_count": 29,
   "metadata": {},
   "outputs": [],
   "source": [
    "import scipy.io\n",
    "matfiledir = currdir + '/AcrossGenre_Order_Trn.mat'\n",
    "songsfiledir = currdir + '/ChosenSongs_raw.mat'\n",
    "# Load the .mat file\n",
    "mat_contents = scipy.io.loadmat(matfiledir)\n",
    "\n",
    "songorder = scipy.io.loadmat(songsfiledir)"
   ]
  },
  {
   "cell_type": "code",
   "execution_count": 30,
   "metadata": {},
   "outputs": [
    {
     "data": {
      "text/plain": [
       "{'__header__': b'MATLAB 5.0 MAT-file, Platform: GLNXA64, Created on: Thu Aug  3 04:01:31 2023',\n",
       " '__version__': '1.0',\n",
       " '__globals__': [],\n",
       " 'across_genre_rn_trn': array([[[ 1,  5,  8,  6,  2,  4,  3,  7,  9, 10],\n",
       "         [ 1,  6, 10,  2,  9,  3,  5,  8,  7,  4],\n",
       "         [ 1, 10,  2,  4,  5,  9,  8,  7,  6,  3],\n",
       "         [ 6,  9,  4,  8, 10,  1,  2,  3,  5,  7]],\n",
       " \n",
       "        [[ 7, 10,  4,  6,  3,  9,  5,  8,  2,  1],\n",
       "         [10,  5,  4,  6,  7,  8,  9,  1,  3,  2],\n",
       "         [10,  5,  7,  3,  8,  9,  6,  2,  4,  1],\n",
       "         [ 6,  9,  1,  4,  5, 10,  7,  3,  2,  8]],\n",
       " \n",
       "        [[ 8,  7,  6, 10,  3,  4,  9,  2,  1,  5],\n",
       "         [ 8,  2,  7,  9,  3, 10,  4,  1,  6,  5],\n",
       "         [ 7,  1, 10,  5,  8,  2,  9,  3,  4,  6],\n",
       "         [ 6,  5,  2,  8,  1, 10,  7,  4,  3,  9]],\n",
       " \n",
       "        [[ 4,  5, 10,  6,  3,  9,  7,  8,  2,  1],\n",
       "         [ 6,  5,  9,  3,  7, 10,  2,  4,  1,  8],\n",
       "         [ 1,  3,  6,  2,  9,  5,  8,  7, 10,  4],\n",
       "         [ 8,  1,  5,  9,  3, 10,  4,  2,  6,  7]],\n",
       " \n",
       "        [[ 5,  2,  9,  3,  6,  7,  4,  1, 10,  8],\n",
       "         [ 6,  8,  5,  7,  1,  9,  2,  3, 10,  4],\n",
       "         [ 5,  7,  4,  2, 10,  3,  6,  8,  9,  1],\n",
       "         [ 3,  5,  2,  7, 10,  8,  6,  4,  1,  9]],\n",
       " \n",
       "        [[ 3,  2, 10,  5,  9,  4,  6,  7,  1,  8],\n",
       "         [10,  6,  2,  5,  7,  3,  4,  9,  1,  8],\n",
       "         [ 2,  9,  6,  7,  1, 10,  5,  8,  4,  3],\n",
       "         [ 2,  3,  8,  7,  1, 10,  9,  5,  4,  6]],\n",
       " \n",
       "        [[ 8,  6,  3,  2,  5,  4,  9,  7, 10,  1],\n",
       "         [ 7,  5, 10,  3,  8,  4,  2,  9,  1,  6],\n",
       "         [ 8,  9,  2,  6, 10,  5,  1,  4,  7,  3],\n",
       "         [ 9,  6,  4, 10,  7,  1,  2,  5,  8,  3]],\n",
       " \n",
       "        [[ 9,  7,  3,  8, 10,  5,  4,  1,  6,  2],\n",
       "         [ 2,  4,  3,  1, 10,  6,  8,  5,  9,  7],\n",
       "         [ 6,  1,  9,  5,  7,  4,  8,  3,  2, 10],\n",
       "         [ 6,  4, 10,  3,  2,  7,  8,  9,  5,  1]],\n",
       " \n",
       "        [[ 1,  6,  3,  9,  5,  4, 10,  2,  7,  8],\n",
       "         [ 1, 10,  4,  7,  8,  6,  9,  5,  2,  3],\n",
       "         [ 5,  4,  6,  9,  1, 10,  8,  3,  2,  7],\n",
       "         [ 1,  6, 10,  3,  9,  4,  7,  8,  5,  2]],\n",
       " \n",
       "        [[ 7, 10,  3,  6,  2,  9,  5,  4,  1,  8],\n",
       "         [ 3,  4,  5,  1, 10,  6,  2,  9,  8,  7],\n",
       "         [ 8, 10,  9,  3,  1,  7,  2,  4,  6,  5],\n",
       "         [ 9,  3,  4,  1, 10,  8,  7,  6,  5,  2]],\n",
       " \n",
       "        [[ 2,  1, 10,  4,  9,  3,  6,  5,  8,  7],\n",
       "         [ 2,  8,  3,  4,  5,  7,  9,  1, 10,  6],\n",
       "         [ 1,  3,  7,  6, 10,  5,  8,  4,  9,  2],\n",
       "         [ 2,  3,  7,  6,  1,  5, 10,  8,  4,  9]],\n",
       " \n",
       "        [[ 9,  2,  7, 10,  5,  8,  4,  6,  3,  1],\n",
       "         [ 3,  2,  8,  4,  5,  1, 10,  9,  7,  6],\n",
       "         [ 8, 10,  1,  7,  9,  3,  6,  4,  5,  2],\n",
       "         [10,  8,  9,  2,  6,  1,  3,  5,  7,  4]]], dtype=uint8)}"
      ]
     },
     "execution_count": 30,
     "metadata": {},
     "output_type": "execute_result"
    }
   ],
   "source": [
    "mat_contents"
   ]
  },
  {
   "cell_type": "code",
   "execution_count": 31,
   "metadata": {},
   "outputs": [
    {
     "data": {
      "text/plain": [
       "(12, 4, 10)"
      ]
     },
     "execution_count": 31,
     "metadata": {},
     "output_type": "execute_result"
    }
   ],
   "source": [
    "mat_contents['across_genre_rn_trn'].shape"
   ]
  },
  {
   "cell_type": "code",
   "execution_count": 32,
   "metadata": {},
   "outputs": [
    {
     "data": {
      "text/plain": [
       "(10, 54)"
      ]
     },
     "execution_count": 32,
     "metadata": {},
     "output_type": "execute_result"
    }
   ],
   "source": [
    "songorder['Tarray'].shape"
   ]
  },
  {
   "cell_type": "code",
   "execution_count": 33,
   "metadata": {},
   "outputs": [
    {
     "data": {
      "text/plain": [
       "{'__header__': b'MATLAB 5.0 MAT-file, Platform: GLNXA64, Created on: Mon Aug 21 21:47:44 2023',\n",
       " '__version__': '1.0',\n",
       " '__globals__': [],\n",
       " 'Tarray': array([[ 79,  54,  18,  47,  43,  66,  99,  41,  23,  74,  51,  70,  69,\n",
       "          34,  86,  91,  42,   1,  64,  37,  75,   6,   7,  61,  80,  29,\n",
       "          49,  11,  21,  24,  15,  65,  27,  77,  32,  81,   3,  90,  39,\n",
       "          67,  73,  63,  95,  12,  96,  50,  17,  93,  46,  78,  97,  16,\n",
       "          48,  53],\n",
       "        [ 41,   7,  86,  30,  29,  45,  98,  54,   9,  92,  95,  36,  48,\n",
       "           6,  26,  93,  35,  38,  18,  12,  61,  75,  16,  53,  50,  34,\n",
       "          25,  39,  73,  31,  11,  46,  27,  90,  17,  87,  77,  72,  96,\n",
       "          85,  68,  13,  89,  82,  67,  49,  44,   4,  40,  60,  32,  71,\n",
       "           8,  24],\n",
       "        [ 41,  22,  49,  74,  54,   7,  81,  42,  47,  31,  79,  11,  45,\n",
       "         100,  43,  84,  82,  57,  28,  29,  63,  91,  90,   9,  36,  46,\n",
       "          51,  96,  71,  10,  25,  27,  16,  37,  21,  35,  73,  80,  18,\n",
       "          30,  40,   8,  17,  68,  19,  13,  86,  72,  60,  53,  83,  55,\n",
       "          85,  75],\n",
       "        [ 93,  73,  55,  44,  64,  31,  26,  29,  30,  13,  67,  87,  35,\n",
       "          50,  28,  14,  15,   7,  12,  92,  60,   6,  47,  49,  99,  76,\n",
       "          82,  85,  16,   1, 100,  70,  36,  63,  10,  38,  33,  62,   3,\n",
       "          74,  54,  75,  94,  97,  81,  80,   8,  72,  32,  46,  86,   5,\n",
       "          53,  17],\n",
       "        [ 88,  34,   3,  73,  27,  68,  46,  91,  71,   8,  32,  78,  81,\n",
       "          77,  43,  36,  99,  37,  83,  48,  54,  65,  70,  44,  95,  20,\n",
       "          57,  15,  96,   4,  11,  87,  61,  75,  63,  62,   7,  93,  29,\n",
       "          76,  79,  42,  89,  85,  31,  47,  21,   9,  59,  69,  50,  60,\n",
       "          51,  67],\n",
       "        [ 76,  15,  87,  10,   5,  41,  90,  19,  45,  61,  70,  14,  27,\n",
       "          48,  38,  62,  17,  46,   7,  79,  51,  56,   4,  60,  35,  64,\n",
       "          13,  42, 100,  23,  52,  74,  78,  84,  16,  86,  28,  80,  95,\n",
       "          34,  44,  94,  83,  96,  37,  65,  69,  59,  68,  18,  43,  71,\n",
       "          53,  47],\n",
       "        [ 47,  10,  41,  16,  64,   5,  38,  56,  98,  81,  76,  65,  83,\n",
       "          32,  75,  50,  86,  70,  79,  28,   7,  82,   3,  91,  95,  99,\n",
       "          27,  26,  19,  37,  45,  39,   8,  30,  93, 100,  94,  66,  23,\n",
       "          48,   9,  55,  24,  73,  33,  52,  92,  89,  40,  58,  11,  51,\n",
       "          85,  63],\n",
       "        [ 43,  88,  72,  16,  18,  60,  86,  25,  73,  62,  42,  27,  83,\n",
       "           5,  97,  56,  33,  95,  69,  15,  17,  24,  50,  78, 100,  77,\n",
       "           2,  93,   9,  98,  66,  52,  35,  67,  32,   3,  37,   6,  55,\n",
       "          57,  22,  71,  30,  23,  45,  94,  40,  61,  38,  80,  53,  49,\n",
       "          44,  36],\n",
       "        [ 32,  71,  91,  29,  27,  23,   8,  34,  61,  33,  19,  85,  16,\n",
       "          56,  14,  28,  31,   9,   2,   6,  10,  40,  36,  80,  54,  20,\n",
       "          30,  74,  38,  46,  96,  17,  84,  41,  49,  45,  47,  86,  60,\n",
       "          25,  44,  89,  66,  53,  77,  48,  81,   5,  43,  78,  63,  42,\n",
       "          69,  90],\n",
       "        [  7,  10,  39,  72,  89,  42,  93,  52,  33,  34,  92,  98,  61,\n",
       "          73,  31,  63,  28,  82,  58,  67,  53,  87,   3,  41,  30,  40,\n",
       "          77,  13,  38,  50,  44,  76,  94,  95,  91,  54,  90,  66,  71,\n",
       "           6,  55,  75,  85,  37,   2,  14,  29, 100,  15,  11,  99,  36,\n",
       "          70,  20]], dtype=uint8)}"
      ]
     },
     "execution_count": 33,
     "metadata": {},
     "output_type": "execute_result"
    }
   ],
   "source": [
    "songorder"
   ]
  },
  {
   "cell_type": "code",
   "execution_count": 34,
   "metadata": {},
   "outputs": [
    {
     "ename": "NameError",
     "evalue": "name 'wg_order' is not defined",
     "output_type": "error",
     "traceback": [
      "\u001b[0;31m---------------------------------------------------------------------------\u001b[0m",
      "\u001b[0;31mNameError\u001b[0m                                 Traceback (most recent call last)",
      "Cell \u001b[0;32mIn[34], line 8\u001b[0m\n\u001b[1;32m      5\u001b[0m \u001b[38;5;28;01mfor\u001b[39;00m genre_id \u001b[38;5;129;01min\u001b[39;00m \u001b[38;5;28mrange\u001b[39m(n_genre):\n\u001b[1;32m      6\u001b[0m     \u001b[38;5;28;01mfor\u001b[39;00m token_id \u001b[38;5;129;01min\u001b[39;00m \u001b[38;5;28mrange\u001b[39m(n_token):\n\u001b[1;32m      7\u001b[0m         \u001b[38;5;66;03m#Load raw signal\u001b[39;00m\n\u001b[0;32m----> 8\u001b[0m         targ_song \u001b[38;5;241m=\u001b[39m np\u001b[38;5;241m.\u001b[39msort(chosen_songs[genre_id, :] \u001b[38;5;241m-\u001b[39m \u001b[38;5;241m1\u001b[39m)[\u001b[43mwg_order\u001b[49m[token_id, genre_id] \u001b[38;5;241m-\u001b[39m \u001b[38;5;241m1\u001b[39m]\n\u001b[1;32m      9\u001b[0m         sort_ind \u001b[38;5;241m=\u001b[39m np\u001b[38;5;241m.\u001b[39margsort(chosen_songs[genre_id, :] \u001b[38;5;241m-\u001b[39m \u001b[38;5;241m1\u001b[39m)\n",
      "\u001b[0;31mNameError\u001b[0m: name 'wg_order' is not defined"
     ]
    }
   ],
   "source": [
    "n_genre = 10\n",
    "n_token = 54\n",
    "chosen_songs = songorder = scipy.io.loadmat(songsfiledir)['Tarray']\n",
    "\n",
    "for genre_id in range(n_genre):\n",
    "    for token_id in range(n_token):\n",
    "        #Load raw signal\n",
    "        targ_song = np.sort(chosen_songs[genre_id, :] - 1)[wg_order[token_id, genre_id] - 1]\n",
    "        sort_ind = np.argsort(chosen_songs[genre_id, :] - 1)"
   ]
  },
  {
   "cell_type": "code",
   "execution_count": null,
   "metadata": {},
   "outputs": [],
   "source": []
  }
 ],
 "metadata": {
  "kernelspec": {
   "display_name": "venv",
   "language": "python",
   "name": "python3"
  },
  "language_info": {
   "codemirror_mode": {
    "name": "ipython",
    "version": 3
   },
   "file_extension": ".py",
   "mimetype": "text/x-python",
   "name": "python",
   "nbconvert_exporter": "python",
   "pygments_lexer": "ipython3",
   "version": "3.8.8"
  }
 },
 "nbformat": 4,
 "nbformat_minor": 2
}
